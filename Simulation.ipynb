{
 "cells": [
  {
   "cell_type": "code",
   "execution_count": 1,
   "id": "romantic-amsterdam",
   "metadata": {},
   "outputs": [],
   "source": [
    "import numpy as np\n",
    "import matplotlib.pyplot as plt"
   ]
  },
  {
   "cell_type": "code",
   "execution_count": 15,
   "id": "perceived-court",
   "metadata": {},
   "outputs": [],
   "source": [
    "def gen_Y(pi_0):\n",
    "\t# H_0 : Y ~ [N(3, 1) N(-1, 1)]\n",
    "\t# H_1 : Y_1, Y_2 ~ P_x; p(x) = 1/2*exp(-|x|)\n",
    "    N = int(100000)\n",
    "    #Y = np.zeros((2, N))\n",
    "    Y =[]\n",
    "    ber_exp = np.random.binomial(n=1, p=1-pi_0, size=N)\n",
    "    #print(ber_exp)\n",
    "    for i in ber_exp:\n",
    "        if i == 0:\n",
    "            #Y[:, i] = h0()\n",
    "            Y.append(h0())\n",
    "        else:   \n",
    "            #Y[:, i] = h1()\n",
    "            Y.append(h1())\n",
    "        #print(Y[:, i])\n",
    "    #Y = np.array(Y)#.reshape(2, -1)\n",
    "    #print(Y)\n",
    "    Y = np.matrix(Y).T\n",
    "    return Y, ber_exp\n",
    "def Gen_Y(pi_0):\n",
    "    N = int(10e6)\n",
    "    nH0 = int(N*pi_0)\n",
    "    nH1 = N - nH0\n",
    "    H0 = np.array([np.random.normal(3, 1, size=nH0), np.random.normal(-1, 1, size=nH0)])\n",
    "    #print(H0.shape)\n",
    "    H1 = np.array([np.random.laplace(size=nH1), np.random.laplace(size=nH1)])\n",
    "    #print(H1.shape)\n",
    "    Y = np.hstack((H0, H1))\n",
    "    return Y#np.random.shuffle(Y, axis=1)\n",
    "\n",
    "def px(instances=1):\n",
    "    return np.random.laplace(size=instances)\n",
    "# \tX = np.random.uniform(size=(instances,1))\n",
    "# \tY = np.random.uniform(size=(instances,1))\n",
    "# \treturn np.log(X/Y)\n",
    "\n",
    "def h0():\n",
    "    return np.array([np.random.normal(3, 1), np.random.normal(-1, 1)]).reshape(2, )\n",
    "\n",
    "def h1():\n",
    "    return np.array([px(), px()]).reshape(2, )\n",
    "\n",
    "def opt_decision_rule(pi_0, Y):\n",
    "    tau = pi_0/(1 - pi_0)\n",
    "    a = np.array([3, -1]).reshape(2, 1)\n",
    "    #decision = (np.linalg.norm(Y, axis=0)**2) + a@Y - 2*np.linalg.norm(Y, axis=0) <= 2*np.log(2*tau/np.pi) -10\n",
    "    decision = (np.pi/2)*np.exp(0.5*(np.linalg.norm(Y - a, axis=0)**2) - np.linalg.norm(Y, axis=0, ord=1)) >= tau\n",
    "    return decision.reshape(-1, )\n",
    "\n",
    "def p0G1(delta, Y):\n",
    "    G1 = Y[:, delta]\n",
    "    #print(G1)\n",
    "    a = np.array([3, -1]).reshape(2, 1)\n",
    "    p0G1 = (0.5/np.pi)*np.exp(-0.5*(np.linalg.norm(G1-a, axis=0)**2))\n",
    "    #print(p0G1)\n",
    "    return np.sum(p0G1)/len(p0G1)\n",
    "\n",
    "def p1G0(delta, Y):\n",
    "    G0 = Y[:, np.logical_not(delta)]\n",
    "    #print(G0)\n",
    "    p1G0 = 0.25*np.exp(-1*(np.linalg.norm(G0, axis=0, ord=1)))\n",
    "    return np.sum(p1G0)/len(p1G0)\n",
    "\n",
    "def P0G1(delta, Y):\n",
    "    G0 = Y[:, np.logical_not(delta)]\n",
    "    #print(G1)\n",
    "    a = np.array([3, -1]).reshape(2, 1)\n",
    "    p0G0 = np.sum((0.5/np.pi)*np.exp(-0.5*(np.linalg.norm(G0-a, axis=0)**2)))\n",
    "    #print(p0G1)\n",
    "    return 1 - p0G0\n",
    "\n",
    "def P1G0(delta, Y):\n",
    "    G1 = Y[:, delta]\n",
    "    #print(G0)\n",
    "    p1G1 = np.sum(0.25*np.exp(-1*(np.linalg.norm(G1, axis=0, ord=1))))\n",
    "    return 1-p1G1\n",
    "\n",
    "def V(pi_0):\n",
    "    Y = Gen_Y(pi_0)\n",
    "    #print(Y)\n",
    "    delta = opt_decision_rule(pi_0, Y)\n",
    "    #print(delta)\n",
    "    return pi_0*p0G1(delta, Y) + (1-pi_0)*p1G0(delta, Y)\n",
    "\n",
    "#print(Y)\n",
    "\n",
    "def bayes_risk(genrated_hypothesis, decisions):\n",
    "    miss_classified = np.linalg.norm(genrated_hypothesis - decisions, ord=1)\n",
    "    return miss_classified/genrated_hypothesis.shape[0]"
   ]
  },
  {
   "cell_type": "code",
   "execution_count": 18,
   "id": "trying-lawsuit",
   "metadata": {},
   "outputs": [
    {
     "name": "stderr",
     "output_type": "stream",
     "text": [
      "<ipython-input-15-198f1b12caba>:45: RuntimeWarning: divide by zero encountered in double_scalars\n",
      "  tau = pi_0/(1 - pi_0)\n"
     ]
    }
   ],
   "source": [
    "pi_0 = np.linspace(0, 1, 100)\n",
    "\n",
    "V_pi0 = []\n",
    "\n",
    "for i in pi_0: \n",
    "    Y, genrated_hypothesis = gen_Y(i)\n",
    "    bayes_decisionrule = opt_decision_rule(i, Y)\n",
    "    V_pi0.append(bayes_risk(genrated_hypothesis, bayes_decisionrule))"
   ]
  },
  {
   "cell_type": "code",
   "execution_count": 20,
   "id": "foster-credit",
   "metadata": {},
   "outputs": [
    {
     "data": {
      "image/png": "[encoded data removed]",
      "text/plain": [
       "<Figure size 432x288 with 1 Axes>"
      ]
     },
     "metadata": {
      "needs_background": "light"
     },
     "output_type": "display_data"
    }
   ],
   "source": [
    "plt.plot(pi_0, V_pi0)\n",
    "plt.xlabel('$\\pi_0$')\n",
    "plt.ylabel('$V(\\pi_0)$')\n",
    "plt.savefig('plt.png')"
   ]
  },
  {
   "cell_type": "code",
   "execution_count": 133,
   "id": "convertible-tourist",
   "metadata": {},
   "outputs": [
    {
     "name": "stdout",
     "output_type": "stream",
     "text": [
      "[[ 3  5]\n",
      " [ 4 12]]\n",
      "[ 5. 13.]\n"
     ]
    }
   ],
   "source": [
    "x = np.array([[3, 5], [4, 12]])\n",
    "print(x)\n",
    "print(np.linalg.norm(x, axis=0))"
   ]
  },
  {
   "cell_type": "code",
   "execution_count": 134,
   "id": "loaded-sucking",
   "metadata": {},
   "outputs": [
    {
     "name": "stdout",
     "output_type": "stream",
     "text": [
      "0.005522486410854026\n"
     ]
    }
   ],
   "source": [
    "pi_0 = 0.25\n",
    "#\n",
    "print(V(pi_0))"
   ]
  },
  {
   "cell_type": "code",
   "execution_count": 122,
   "id": "complete-original",
   "metadata": {},
   "outputs": [
    {
     "name": "stdout",
     "output_type": "stream",
     "text": [
      "nan\n"
     ]
    },
    {
     "name": "stderr",
     "output_type": "stream",
     "text": [
      "<ipython-input-119-80b9e5eac2a5>:63: RuntimeWarning: invalid value encountered in double_scalars\n",
      "  return np.sum(p1G0)/len(p1G0)\n"
     ]
    }
   ],
   "source": [
    "# y = np.array([[0, 0], [0, 6]])\n",
    "# pi_0 = 0.5\n",
    "# d = opt_decision_rule(pi_0, y).reshape(-1, )\n",
    "# print(d)\n",
    "# print(np.logical_not(d))\n",
    "# y = y[:, d]\n",
    "# print(y)\n",
    "# # a = np.array([-3, 1]).reshape(2, 1)\n",
    "# # print(np.linalg.norm(y-a, axis=0))\n",
    "# print(p0G1(y, d))\n",
    "# print(p1G0(y, d))\n",
    "pi_0 = 0.5\n",
    "Y = np.array([[3, 0], [-1, 0]])\n",
    "print(p1G0(pi_0, Y))"
   ]
  },
  {
   "cell_type": "code",
   "execution_count": 123,
   "id": "noticed-developer",
   "metadata": {},
   "outputs": [
    {
     "name": "stdout",
     "output_type": "stream",
     "text": [
      "[False  True]\n"
     ]
    }
   ],
   "source": [
    "Y = np.array([[3, 0], [-1, 0]])\n",
    "print(opt_decision_rule(0.1, Y))"
   ]
  },
  {
   "cell_type": "code",
   "execution_count": 124,
   "id": "greater-medication",
   "metadata": {},
   "outputs": [
    {
     "name": "stdout",
     "output_type": "stream",
     "text": [
      "[[ 1  3  4  6]\n",
      " [ 2 45  6  7]]\n",
      "[[ 3  4]\n",
      " [45  6]]\n"
     ]
    }
   ],
   "source": [
    "x = np.array([[1, 3, 4, 6], [2, 45, 6, 7]])\n",
    "#[False, True]\n",
    "print(x)\n",
    "delta = np.array([True, False, False, True])\n",
    "Gamma1 = x[:, np.logical_not(delta)]\n",
    "print(Gamma1)"
   ]
  },
  {
   "cell_type": "code",
   "execution_count": 125,
   "id": "stuffed-month",
   "metadata": {},
   "outputs": [
    {
     "name": "stdout",
     "output_type": "stream",
     "text": [
      "(2, 500)\n",
      "(2, 500)\n",
      "0.0033878223737425924 -42.148719663536454\n"
     ]
    },
    {
     "data": {
      "text/plain": [
       "(array([  3.,   4.,   9.,  36., 160., 190.,  56.,   7.,   7.,   3.]),\n",
       " array([-6.33090877, -5.07558387, -3.82025896, -2.56493405, -1.30960915,\n",
       "        -0.05428424,  1.20104067,  2.45636557,  3.71169048,  4.96701539,\n",
       "         6.22234029]),\n",
       " <BarContainer object of 10 artists>)"
      ]
     },
     "execution_count": 125,
     "metadata": {},
     "output_type": "execute_result"
    },
    {
     "data": {
      "image/png": "[encoded data removed]",
      "text/plain": [
       "<Figure size 432x288 with 1 Axes>"
      ]
     },
     "metadata": {
      "needs_background": "light"
     },
     "output_type": "display_data"
    }
   ],
   "source": [
    "Y = Gen_Y(0.50)\n",
    "delta = opt_decision_rule(0.5, Y)\n",
    "print(p0G1(delta, Y), P0G1(delta, Y))\n",
    "plt.hist(Y[1, delta])"
   ]
  },
  {
   "cell_type": "code",
   "execution_count": 139,
   "id": "federal-bleeding",
   "metadata": {},
   "outputs": [
    {
     "name": "stdout",
     "output_type": "stream",
     "text": [
      "-9.336618518036403\n",
      "0.2792217665766945\n"
     ]
    }
   ],
   "source": [
    "x = np.random.normal(0, 1, size=10000)\n",
    "PDFx = (1/np.sqrt(2*np.pi))*np.exp(-0.5*x**2)\n",
    "print(np.trapz(PDFx, x=x))\n",
    "print(np.sum((1/np.sqrt(2*np.pi))*np.exp(-0.5*x**2))/10000)"
   ]
  },
  {
   "cell_type": "code",
   "execution_count": null,
   "id": "refined-truck",
   "metadata": {},
   "outputs": [],
   "source": []
  }
 ],
 "metadata": {
  "kernelspec": {
   "display_name": "Python 3",
   "language": "python",
   "name": "python3"
  },
  "language_info": {
   "codemirror_mode": {
    "name": "ipython",
    "version": 3
   },
   "file_extension": ".py",
   "mimetype": "text/x-python",
   "name": "python",
   "nbconvert_exporter": "python",
   "pygments_lexer": "ipython3",
   "version": "3.9.1"
  }
 },
 "nbformat": 4,
 "nbformat_minor": 5
}
