{
 "cells": [
  {
   "cell_type": "code",
   "execution_count": 1,
   "id": "romantic-amsterdam",
   "metadata": {},
   "outputs": [],
   "source": [
    "import numpy as np\n",
    "import matplotlib.pyplot as plt"
   ]
  },
  {
   "cell_type": "code",
   "execution_count": 151,
   "id": "perceived-court",
   "metadata": {},
   "outputs": [],
   "source": [
    "def gen_Y(pi_0):\n",
    "\t# H_0 : Y ~ [N(3, 1) N(-1, 1)]\n",
    "\t# H_1 : Y_1, Y_2 ~ P_x; p(x) = 1/2*exp(-|x|)\n",
    "    N = int(500)\n",
    "    Y = np.zeros((2, N))\n",
    "    ber_exp = np.random.binomial(n=1, p=1-pi_0, size=N)\n",
    "    for i in ber_exp:\n",
    "        if i == 0:\n",
    "            Y[:, i] = h0()\n",
    "        else:   \n",
    "            Y[:, i] = h1()\n",
    "    #Y = np.array(Y)#.reshape(2, -1)\n",
    "    return Y\n",
    "\t\n",
    "def px(instances=1):\n",
    "    return np.random.laplace(size=instances)\n",
    "# \tX = np.random.uniform(size=(instances,1))\n",
    "# \tY = np.random.uniform(size=(instances,1))\n",
    "# \treturn np.log(X/Y)\n",
    "\n",
    "def h0():\n",
    "    return np.array([np.random.normal(3, 1), np.random.normal(-1, 1)]).reshape(2, )\n",
    "\n",
    "def h1():\n",
    "    return np.array([px(), px()]).reshape(2, )\n",
    "\n",
    "def opt_decision_rule(pi_0, Y):\n",
    "    tau = pi_0/(1 - pi_0)\n",
    "    a = np.array([3, -1]).reshape(2, 1)\n",
    "    #decision = (np.linalg.norm(Y, axis=0)**2) + a@Y - 2*np.linalg.norm(Y, axis=0) <= 2*np.log(2*tau/np.pi) -10\n",
    "    decision = (np.pi/2)*np.exp(0.5*(np.linalg.norm(Y - a, axis=0)**2) - np.linalg.norm(Y, axis=0, ord=1)) >= tau\n",
    "    return decision.reshape(-1, )\n",
    "\n",
    "def p0G1(delta, Y):\n",
    "    G1 = Y[:, delta]\n",
    "    a = np.array([3, -1]).reshape(2, 1)\n",
    "    p0G1 = (0.5/np.pi)*np.exp(-0.5*(np.linalg.norm(G1-a, axis=0)**2))\n",
    "    print(p0G1)\n",
    "    return np.sum(p0G1)\n",
    "\n",
    "def p1G0(delta, Y):\n",
    "    G0 = Y[:, np.logical_not(delta)]\n",
    "    p1G0 = 0.25*np.exp(-1*(np.linalg.norm(G0, axis=0, ord=1)))\n",
    "    return np.sum(p1G0)\n",
    "\n",
    "def V(pi_0, Y):\n",
    "    delta = opt_decision_rule(pi_0, Y)\n",
    "    return pi_0*p0G1(delta, Y) + (1-pi_0)*p1G0(delta, Y)\n",
    "\n",
    "#print(Y)"
   ]
  },
  {
   "cell_type": "code",
   "execution_count": 152,
   "id": "convertible-tourist",
   "metadata": {},
   "outputs": [
    {
     "name": "stdout",
     "output_type": "stream",
     "text": [
      "[[ 3  5]\n",
      " [ 4 12]]\n",
      "[ 5. 13.]\n"
     ]
    }
   ],
   "source": [
    "x = np.array([[3, 5], [4, 12]])\n",
    "print(x)\n",
    "print(np.linalg.norm(x, axis=0))"
   ]
  },
  {
   "cell_type": "code",
   "execution_count": 182,
   "id": "loaded-sucking",
   "metadata": {},
   "outputs": [
    {
     "name": "stdout",
     "output_type": "stream",
     "text": [
      "0.11265606790663868\n"
     ]
    }
   ],
   "source": [
    "pi_0 = 0.2\n",
    "Y = gen_Y(pi_0)\n",
    "\n",
    "print(V(pi_0, Y))"
   ]
  },
  {
   "cell_type": "code",
   "execution_count": 150,
   "id": "complete-original",
   "metadata": {},
   "outputs": [
    {
     "name": "stdout",
     "output_type": "stream",
     "text": [
      "[0.00457891 0.25      ]\n",
      "(2,)\n",
      "0.25457890972218356\n"
     ]
    }
   ],
   "source": [
    "# y = np.array([[0, 0], [0, 6]])\n",
    "# pi_0 = 0.5\n",
    "# d = opt_decision_rule(pi_0, y).reshape(-1, )\n",
    "# print(d)\n",
    "# print(np.logical_not(d))\n",
    "# y = y[:, d]\n",
    "# print(y)\n",
    "# # a = np.array([-3, 1]).reshape(2, 1)\n",
    "# # print(np.linalg.norm(y-a, axis=0))\n",
    "# print(p0G1(y, d))\n",
    "# print(p1G0(y, d))\n",
    "pi_0 = 0.5\n",
    "Y = np.array([[3, 0], [-1, 0]])\n",
    "print(p1G0(pi_0, Y))"
   ]
  },
  {
   "cell_type": "code",
   "execution_count": 172,
   "id": "noticed-developer",
   "metadata": {},
   "outputs": [
    {
     "name": "stdout",
     "output_type": "stream",
     "text": [
      "[False  True]\n"
     ]
    }
   ],
   "source": [
    "Y = np.array([[3, 0], [-1, 0]])\n",
    "print(opt_decision_rule(0.1, Y))"
   ]
  },
  {
   "cell_type": "code",
   "execution_count": 177,
   "id": "greater-medication",
   "metadata": {},
   "outputs": [
    {
     "name": "stdout",
     "output_type": "stream",
     "text": [
      "[[ 1  3  4  6]\n",
      " [ 2 45  6  7]]\n",
      "[[ 3  4]\n",
      " [45  6]]\n"
     ]
    }
   ],
   "source": [
    "x = np.array([[1, 3, 4, 6], [2, 45, 6, 7]])\n",
    "#[False, True]\n",
    "print(x)\n",
    "delta = np.array([True, False, False, True])\n",
    "Gamma1 = x[:, np.logical_not(delta)]\n",
    "print(Gamma1)"
   ]
  }
 ],
 "metadata": {
  "kernelspec": {
   "display_name": "Python 3",
   "language": "python",
   "name": "python3"
  },
  "language_info": {
   "codemirror_mode": {
    "name": "ipython",
    "version": 3
   },
   "file_extension": ".py",
   "mimetype": "text/x-python",
   "name": "python",
   "nbconvert_exporter": "python",
   "pygments_lexer": "ipython3",
   "version": "3.9.1"
  }
 },
 "nbformat": 4,
 "nbformat_minor": 5
}
